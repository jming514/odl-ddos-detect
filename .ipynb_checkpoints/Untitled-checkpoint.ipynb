{
 "cells": [
  {
   "cell_type": "code",
   "execution_count": 1,
   "metadata": {},
   "outputs": [],
   "source": [
    "import numpy as np\n",
    "import pandas as pd\n",
    "import matplotlib\n",
    "import seaborn as sns\n",
    "import matplotlib.pyplot as plt\n",
    "from sklearn.ensemble import RandomForestClassifier\n",
    "from sklearn.svm import SVC\n",
    "from sklearn import svm\n",
    "from sklearn.neural_network import MLPClassifier\n",
    "from sklearn.metrics import confusion_matrix, classification_report\n",
    "from sklearn.preprocessing import StandardScaler, LabelEncoder\n",
    "from sklearn.model_selection import train_test_split\n",
    "from sklearn.metrics import accuracy_score\n",
    "from sklearn.cluster import KMeans\n",
    "from mpl_toolkits.mplot3d import Axes3D\n",
    "from sklearn.preprocessing import scale\n",
    "import sklearn.metrics as sm\n",
    "import pylab as pl\n",
    "from sklearn.decomposition import PCA\n",
    "from mpl_toolkits.mplot3d import Axes3D\n"
   ]
  },
  {
   "cell_type": "code",
   "execution_count": 2,
   "metadata": {
    "scrolled": false
   },
   "outputs": [
    {
     "name": "stdout",
     "output_type": "stream",
     "text": [
      "<class 'pandas.core.frame.DataFrame'>\n",
      "RangeIndex: 38 entries, 0 to 37\n",
      "Data columns (total 5 columns):\n",
      "Column1    38 non-null int64\n",
      "Column2    38 non-null int64\n",
      "Column3    38 non-null int64\n",
      "Column4    38 non-null int64\n",
      "Column5    38 non-null int64\n",
      "dtypes: int64(5)\n",
      "memory usage: 1.6 KB\n"
     ]
    }
   ],
   "source": [
    "ddos = pd.read_csv(\"https://raw.githubusercontent.com/kamitsu/odl-ddos-detect/better-traffic/testdataset2.csv\")\n",
    "ddos.info()"
   ]
  },
  {
   "cell_type": "code",
   "execution_count": 8,
   "metadata": {},
   "outputs": [
    {
     "name": "stdout",
     "output_type": "stream",
     "text": [
      "KMmodel.labels\n",
      "[0 0 1 0 0 0 0 0 0 0 0 0 0 0 0 0 0 0 1 0 0 0 0 0 0 0 0 0 0 0 0 0 0 0 1 0 0\n",
      " 0]\n",
      "KMmodel.cluster_centers_\n",
      "[[  176.45714286   354.28571429 10284.31428571 19303.57142857]\n",
      " [  346.           709.         20217.33333333 38860.33333333]]\n"
     ]
    }
   ],
   "source": [
    "# x are the features, y are the labels\n",
    "x = ddos.drop('Column5', axis=1)\n",
    "y = ddos['Column5']\n",
    "\n",
    "kmeans = KMeans(n_clusters=2)\n",
    "KMmodel = kmeans.fit(x)\n",
    "# KMmodel.labels_\n",
    "# KMmodel.cluster_centers_\n",
    "print('KMmodel.labels')\n",
    "print(KMmodel.labels_)\n",
    "print('KMmodel.cluster_centers_')\n",
    "print(KMmodel.cluster_centers_)"
   ]
  },
  {
   "cell_type": "code",
   "execution_count": 4,
   "metadata": {},
   "outputs": [
    {
     "name": "stdout",
     "output_type": "stream",
     "text": [
      "[1]\n",
      "col_0     0  1\n",
      "Column5       \n",
      "0        35  0\n",
      "1         0  3\n"
     ]
    }
   ],
   "source": [
    "# testing with a new variable\n",
    "# xnew = [[200, 100, 20000, 40000]]\n",
    "# # xnew = sc.transform(xnew)\n",
    "# ynew = kmeans.predict(xnew)\n",
    "# print(ynew)\n",
    "\n",
    "print(pd.crosstab(y, KMmodel.labels_))  #see how many get labelled as 0 or 1"
   ]
  }
 ],
 "metadata": {
  "kernelspec": {
   "display_name": "Python 3",
   "language": "python",
   "name": "python3"
  },
  "language_info": {
   "codemirror_mode": {
    "name": "ipython",
    "version": 3
   },
   "file_extension": ".py",
   "mimetype": "text/x-python",
   "name": "python",
   "nbconvert_exporter": "python",
   "pygments_lexer": "ipython3",
   "version": "3.7.1"
  }
 },
 "nbformat": 4,
 "nbformat_minor": 2
}
