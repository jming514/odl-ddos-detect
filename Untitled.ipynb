{
 "cells": [
  {
   "cell_type": "code",
   "execution_count": 2,
   "metadata": {
    "scrolled": true
   },
   "outputs": [],
   "source": [
    "# import sys\n",
    "# !{sys.executable} -m pip install mglearn"
   ]
  },
  {
   "cell_type": "code",
   "execution_count": 1,
   "metadata": {},
   "outputs": [],
   "source": [
    "import numpy as np\n",
    "import pandas as pd\n",
    "import matplotlib\n",
    "import seaborn as sns\n",
    "import matplotlib.pyplot as plt\n",
    "from sklearn.svm import SVC\n",
    "from sklearn import svm\n",
    "from sklearn.datasets import load_breast_cancer\n",
    "from sklearn.neighbors import KNeighborsClassifier\n",
    "from sklearn.model_selection import train_test_split\n",
    "import matplotlib.pyplot as plt\n",
    "from sklearn import metrics\n"
   ]
  },
  {
   "cell_type": "code",
   "execution_count": 2,
   "metadata": {
    "scrolled": false
   },
   "outputs": [],
   "source": [
    "ddos = pd.read_csv(\"https://raw.githubusercontent.com/kamitsu/odl-ddos-detect/better-traffic/testdataset2.csv\")\n",
    "testset = pd.read_csv(\"https://raw.githubusercontent.com/kamitsu/odl-ddos-detect/better-traffic/testdataset.csv\")"
   ]
  },
  {
   "cell_type": "code",
   "execution_count": 55,
   "metadata": {},
   "outputs": [],
   "source": [
    "# x are the features, y are the labels\n",
    "X = ddos.drop('Column5',axis = 1)\n",
    "y = ddos.Column5\n",
    "\n",
    "X_train, X_test, y_train, y_test = train_test_split(X, y)\n",
    "\n",
    "t_fl = testset.drop('Column5', axis=1)\n",
    "t_tl = testset.Column5"
   ]
  },
  {
   "cell_type": "code",
   "execution_count": 56,
   "metadata": {},
   "outputs": [
    {
     "name": "stdout",
     "output_type": "stream",
     "text": [
      "              precision    recall  f1-score   support\n",
      "\n",
      "           0       0.93      0.99      0.96       185\n",
      "           1       0.50      0.07      0.12        14\n",
      "\n",
      "   micro avg       0.93      0.93      0.93       199\n",
      "   macro avg       0.72      0.53      0.54       199\n",
      "weighted avg       0.90      0.93      0.90       199\n",
      "\n"
     ]
    }
   ],
   "source": [
    "from sklearn.neighbors import KNeighborsClassifier\n",
    "from sklearn.ensemble import RandomForestClassifier\n",
    "\n",
    "knn = KNeighborsClassifier(n_neighbors=3)\n",
    "knnModel = knn.fit(X_train, y_train)\n",
    "\n",
    "knn.kneighbors_graph()\n",
    "y_expect = t_tl\n",
    "y_pred = knnModel.predict(t_fl)\n",
    "print(metrics.classification_report(y_expect, y_pred))\n",
    "\n",
    "clf = RandomForestClassifier(n_estimators=100, max_depth=2, random_state=0)\n",
    "clfModel = clf.fit(X_train, y_train)"
   ]
  },
  {
   "cell_type": "code",
   "execution_count": 57,
   "metadata": {},
   "outputs": [
    {
     "name": "stdout",
     "output_type": "stream",
     "text": [
      "Knn\n",
      "Accuracy on the training subset: 1.000\n",
      "Accuracy on the test subset: 0.925\n",
      "Accuracy on the testset data: 0.930\n",
      "Random forest\n",
      "Accuracy on the training subset: 0.967\n",
      "Accuracy on the test subset: 0.975\n",
      "Accuracy on the testset data: 0.935\n"
     ]
    }
   ],
   "source": [
    "print('Knn')\n",
    "print('Accuracy on the training subset: {:.3f}'.format(knn.score(X_train, y_train)))\n",
    "print('Accuracy on the test subset: {:.3f}'.format(knn.score(X_test, y_test)))\n",
    "print('Accuracy on the testset data: {:.3f}'.format(knn.score(t_fl, t_tl)))\n",
    "\n",
    "print('Random forest')\n",
    "print('Accuracy on the training subset: {:.3f}'.format(clf.score(X_train, y_train)))\n",
    "print('Accuracy on the test subset: {:.3f}'.format(clf.score(X_test, y_test)))\n",
    "print('Accuracy on the testset data: {:.3f}'.format(clf.score(t_fl, t_tl)))\n"
   ]
  },
  {
   "cell_type": "code",
   "execution_count": 21,
   "metadata": {},
   "outputs": [
    {
     "data": {
      "text/plain": [
       "<matplotlib.legend.Legend at 0x262ff847550>"
      ]
     },
     "execution_count": 21,
     "metadata": {},
     "output_type": "execute_result"
    },
    {
     "data": {
      "image/png": "[encoded data removed]",
      "text/plain": [
       "<Figure size 432x288 with 1 Axes>"
      ]
     },
     "metadata": {
      "needs_background": "light"
     },
     "output_type": "display_data"
    }
   ],
   "source": [
    "X_train, X_test, y_train, y_test = train_test_split(X, y, random_state=44)\n",
    "\n",
    "training_accuracy = []\n",
    "test_accuracy = []\n",
    "\n",
    "neighbors_settings = range(1, 11)\n",
    "\n",
    "for n_neighbors in neighbors_settings:\n",
    "    clf = KNeighborsClassifier(n_neighbors=n_neighbors)\n",
    "    clf.fit(X_train, y_train)\n",
    "    training_accuracy.append(clf.score(X_train, y_train))\n",
    "    test_accuracy.append(clf.score(X_test, y_test))\n",
    "    \n",
    "plt.plot(neighbors_settings, training_accuracy, label='Acc of training set')\n",
    "plt.plot(neighbors_settings, test_accuracy, label='Acc of test set')\n",
    "plt.ylabel('Accuracy')\n",
    "plt.xlabel('Number of Neighbors')\n",
    "plt.legend()"
   ]
  },
  {
   "cell_type": "code",
   "execution_count": null,
   "metadata": {},
   "outputs": [],
   "source": []
  },
  {
   "cell_type": "code",
   "execution_count": null,
   "metadata": {},
   "outputs": [],
   "source": []
  }
 ],
 "metadata": {
  "kernelspec": {
   "display_name": "Python 3",
   "language": "python",
   "name": "python3"
  },
  "language_info": {
   "codemirror_mode": {
    "name": "ipython",
    "version": 3
   },
   "file_extension": ".py",
   "mimetype": "text/x-python",
   "name": "python",
   "nbconvert_exporter": "python",
   "pygments_lexer": "ipython3",
   "version": "3.7.1"
  }
 },
 "nbformat": 4,
 "nbformat_minor": 2
}
